{
 "cells": [
  {
   "cell_type": "markdown",
   "metadata": {},
   "source": [
    "## Function to Extract Text from PDF\n",
    "___"
   ]
  },
  {
   "cell_type": "code",
   "execution_count": 1,
   "metadata": {},
   "outputs": [],
   "source": [
    "import PyPDF2\n",
    "\n",
    "def extract_text_from_pdf(pdf_path):\n",
    "    with open(pdf_path, 'rb') as file:\n",
    "        reader = PyPDF2.PdfReader(file)\n",
    "        text = ''\n",
    "        for page in reader.pages:\n",
    "            text += page.extract_text()\n",
    "    return text"
   ]
  },
  {
   "cell_type": "markdown",
   "metadata": {},
   "source": [
    "## Preprocessing Function\n",
    "___"
   ]
  },
  {
   "cell_type": "code",
   "execution_count": 2,
   "metadata": {},
   "outputs": [],
   "source": [
    "import re\n",
    "\n",
    "def preprocess(text):\n",
    "    # Remove non-ASCII characters\n",
    "    text = re.sub(r'[^\\x00-\\x7f]', r' ', text)\n",
    "\n",
    "    # Lowercase the text for uniformity\n",
    "    text = text.lower()\n",
    "\n",
    "    # Remove URLs\n",
    "    text = re.sub(r'http\\S+', ' ', text)\n",
    "\n",
    "    # Remove email addresses\n",
    "    text = re.sub(r'\\S*@\\S*\\s?', '', text)\n",
    "\n",
    "    # Remove Twitter-specific artifacts like RT (retweet) and cc\n",
    "    text = re.sub(r'\\brt\\b|cc', ' ', text)\n",
    "\n",
    "    # Remove hashtags and mentions\n",
    "    text = re.sub(r'#\\S+|@\\S+', ' ', text)\n",
    "\n",
    "    # Remove punctuations and special characters\n",
    "    text = re.sub(r'[^\\w\\s]', ' ', text)\n",
    "    \n",
    "    # Replace multiple spaces with a single space\n",
    "    text = re.sub(r'\\s+', ' ', text).strip()\n",
    "\n",
    "    return text\n"
   ]
  },
  {
   "cell_type": "markdown",
   "metadata": {},
   "source": [
    "## Convert Text to Bag of Words Vectors\n",
    "___"
   ]
  },
  {
   "cell_type": "code",
   "execution_count": 3,
   "metadata": {},
   "outputs": [],
   "source": [
    "from sklearn.feature_extraction.text import CountVectorizer\n",
    "\n",
    "def text_to_bow_vector(texts):\n",
    "    vectorizer = CountVectorizer()\n",
    "    vectors = vectorizer.fit_transform(texts)\n",
    "    return vectors, vectorizer"
   ]
  },
  {
   "cell_type": "markdown",
   "metadata": {},
   "source": [
    "## Similarity Calculation Function\n",
    "___"
   ]
  },
  {
   "cell_type": "code",
   "execution_count": 4,
   "metadata": {},
   "outputs": [],
   "source": [
    "from sklearn.metrics.pairwise import cosine_similarity\n",
    "def calculate_similarity(vector1, vector2):\n",
    "    return cosine_similarity(vector1, vector2)"
   ]
  },
  {
   "cell_type": "markdown",
   "metadata": {},
   "source": [
    "## Function to Process PDFs in a Folder\n",
    "___"
   ]
  },
  {
   "cell_type": "code",
   "execution_count": 5,
   "metadata": {},
   "outputs": [],
   "source": [
    "import os\n",
    "def process_pdfs_in_folder(folder_path):\n",
    "    resume_paths = [os.path.join(folder_path, file) for file in os.listdir(folder_path) if file.endswith('.pdf')]\n",
    "    resumes_text = [preprocess(extract_text_from_pdf(resume_path)) for resume_path in resume_paths]\n",
    "    return resumes_text, resume_paths"
   ]
  },
  {
   "cell_type": "markdown",
   "metadata": {},
   "source": [
    "## Function to Match Job Description with Resumes\n",
    "___"
   ]
  },
  {
   "cell_type": "code",
   "execution_count": 6,
   "metadata": {},
   "outputs": [],
   "source": [
    "def match_resumes_with_job(job_desc_text, folder_path):\n",
    "    job_desc_text = preprocess(job_desc_text)\n",
    "    resumes_text, resume_paths = process_pdfs_in_folder(folder_path)\n",
    "\n",
    "    all_text = [job_desc_text] + resumes_text\n",
    "    vectors, vectorizer = text_to_bow_vector(all_text)\n",
    "\n",
    "    job_vector = vectors[0]\n",
    "    resume_vectors = vectors[1:]\n",
    "\n",
    "    similarities = [calculate_similarity(job_vector, resume_vector)[0][0] for resume_vector in resume_vectors]\n",
    "\n",
    "    matched_resumes = sorted(zip(resume_paths, similarities), key=lambda x: x[1], reverse=True)\n",
    "    \n",
    "    return matched_resumes\n"
   ]
  },
  {
   "cell_type": "markdown",
   "metadata": {},
   "source": [
    "## Implementation\n",
    "___"
   ]
  },
  {
   "cell_type": "code",
   "execution_count": 7,
   "metadata": {},
   "outputs": [
    {
     "name": "stdout",
     "output_type": "stream",
     "text": [
      "Resume: /Users/pranavkhot/Documents/INTERNSHIP/TASK2/PROJECT/CV/RESUME9.pdf, Similarity Score: 58%\n",
      "Resume: /Users/pranavkhot/Documents/INTERNSHIP/TASK2/PROJECT/CV/RESUME18.pdf, Similarity Score: 58%\n",
      "Resume: /Users/pranavkhot/Documents/INTERNSHIP/TASK2/PROJECT/CV/RESUME11.pdf, Similarity Score: 57%\n",
      "Resume: /Users/pranavkhot/Documents/INTERNSHIP/TASK2/PROJECT/CV/RESUME12.pdf, Similarity Score: 56%\n",
      "Resume: /Users/pranavkhot/Documents/INTERNSHIP/TASK2/PROJECT/CV/RESUME10.pdf, Similarity Score: 56%\n",
      "Resume: /Users/pranavkhot/Documents/INTERNSHIP/TASK2/PROJECT/CV/RESUME4.pdf, Similarity Score: 56%\n",
      "Resume: /Users/pranavkhot/Documents/INTERNSHIP/TASK2/PROJECT/CV/RESUME5.pdf, Similarity Score: 56%\n",
      "Resume: /Users/pranavkhot/Documents/INTERNSHIP/TASK2/PROJECT/CV/RESUME6.pdf, Similarity Score: 55%\n",
      "Resume: /Users/pranavkhot/Documents/INTERNSHIP/TASK2/PROJECT/CV/RESUME8.pdf, Similarity Score: 53%\n",
      "Resume: /Users/pranavkhot/Documents/INTERNSHIP/TASK2/PROJECT/CV/RESUME19.pdf, Similarity Score: 51%\n",
      "Resume: /Users/pranavkhot/Documents/INTERNSHIP/TASK2/PROJECT/CV/RESUME7.pdf, Similarity Score: 50%\n",
      "Resume: /Users/pranavkhot/Documents/INTERNSHIP/TASK2/PROJECT/CV/RESUME13.pdf, Similarity Score: 50%\n",
      "Resume: /Users/pranavkhot/Documents/INTERNSHIP/TASK2/PROJECT/CV/RESUME1.pdf, Similarity Score: 49%\n",
      "Resume: /Users/pranavkhot/Documents/INTERNSHIP/TASK2/PROJECT/CV/RESUME15.pdf, Similarity Score: 48%\n",
      "Resume: /Users/pranavkhot/Documents/INTERNSHIP/TASK2/PROJECT/CV/RESUME3.pdf, Similarity Score: 44%\n",
      "Resume: /Users/pranavkhot/Documents/INTERNSHIP/TASK2/PROJECT/CV/RESUME2.pdf, Similarity Score: 43%\n",
      "Resume: /Users/pranavkhot/Documents/INTERNSHIP/TASK2/PROJECT/CV/RESUME17.pdf, Similarity Score: 43%\n",
      "Resume: /Users/pranavkhot/Documents/INTERNSHIP/TASK2/PROJECT/CV/RESUME16.pdf, Similarity Score: 41%\n",
      "Resume: /Users/pranavkhot/Documents/INTERNSHIP/TASK2/PROJECT/CV/RESUME14.pdf, Similarity Score: 36%\n",
      "Resume: /Users/pranavkhot/Documents/INTERNSHIP/TASK2/PROJECT/CV/RESUME20.pdf, Similarity Score: 13%\n"
     ]
    }
   ],
   "source": [
    "job_description = input(\"Your job description text here\")\n",
    "folder_path = \"/Users/pranavkhot/Documents/INTERNSHIP/TASK2/PROJECT/CV\"\n",
    "\n",
    "matched_resumes = match_resumes_with_job(job_description, folder_path)\n",
    "for resume, score in matched_resumes:\n",
    "    rounded_score = round(score * 100)  # Convert to percentage and round\n",
    "    print(f\"Resume: {resume}, Similarity Score: {rounded_score}%\")"
   ]
  }
 ],
 "metadata": {
  "kernelspec": {
   "display_name": "Python 3",
   "language": "python",
   "name": "python3"
  },
  "language_info": {
   "codemirror_mode": {
    "name": "ipython",
    "version": 3
   },
   "file_extension": ".py",
   "mimetype": "text/x-python",
   "name": "python",
   "nbconvert_exporter": "python",
   "pygments_lexer": "ipython3",
   "version": "3.11.4"
  }
 },
 "nbformat": 4,
 "nbformat_minor": 2
}
